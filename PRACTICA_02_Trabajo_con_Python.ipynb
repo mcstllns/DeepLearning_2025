{
  "nbformat": 4,
  "nbformat_minor": 0,
  "metadata": {
    "colab": {
      "provenance": [],
      "collapsed_sections": [
        "Ay7cN5SEiETw",
        "rlS3EDNttBuQ",
        "W3wnS6x09o3o",
        "ImdbVenp5dTE",
        "9eIdtNAo6wZt",
        "XBwvP2EIPakx"
      ]
    },
    "kernelspec": {
      "name": "python3",
      "display_name": "Python 3"
    },
    "language_info": {
      "name": "python"
    }
  },
  "cells": [
    {
      "cell_type": "markdown",
      "source": [
        "<font color=\"darkorange\" size=\"10\"><b>02. Trabajo con Python</b></font>\n",
        "\n",
        "Miguel A. Castellanos"
      ],
      "metadata": {
        "id": "xews0t25lSHg"
      }
    },
    {
      "cell_type": "markdown",
      "source": [
        "* Los entornos clásicos han hecho algún esfuerzo por adaptarse a esta tecnología\n",
        "Pero la verdad es que se trabaja principalmente en un lenguaje llamado python\n",
        "* Para poder trabajar eficientemente se necesita hardware específico (GPUS y otras arquitecturas que están apareciendo), en concreto las tarjetas Nvidia.\n",
        "* Controlar directamente ese hardware es complejo, por eso se han desarrollado APIs (application programming interface)\n",
        "\n",
        "\\\\\n",
        "\n",
        "* Existen dos grandes sistemas para controlar esas GPUs: Tensorflow (google) y Pytorch (Facebook)\n",
        "* Ambas utilizan python\n",
        "\n",
        "\\\\\n",
        "\n",
        "* Trabajar en Deep Learning directamente con tensorflow puede implicar programación matricial compleja\n",
        "* Todo eso se puede simplificar usando APIS\n",
        "* Las APIS son librerías de alto nivel como Keras o Pytorch que hacen la vida más fácil a todo el mundo\n",
        "* El código estará escrito en python\n",
        "* Explicaremos lo mínimo imprescindible y aceptaremos un cierto grado de “magia” en lo que estamos haciendo\n"
      ],
      "metadata": {
        "id": "Omc6BbEyoiAR"
      }
    },
    {
      "cell_type": "markdown",
      "source": [
        "## <font color=\"darkorange\"><b>Básico de Colab</b></font>\n",
        "\n",
        "- Colab es el servicio en la nube de Google que vamosa utilizar en este curso\n"
      ],
      "metadata": {
        "id": "Ay7cN5SEiETw"
      }
    },
    {
      "cell_type": "markdown",
      "source": [
        "\n",
        "* Vamos a trabajar con pytorch, usando herramientas para notebooks\n",
        "basados en el entorno de colab: https://colab.research.google.com\n",
        "* Podemos hacer de todo con colab pero hay poca potencia de cálculo\n",
        "* La instalación en un ordenador del entorno necesario puede ser compleja pero el que quiera puede seguir las instrucciones en https://pytorch.org/get-started/locally/\n",
        "* En general, todo esto funciona mejor si usas Linux\n",
        "\n",
        "\\\\\n",
        "\n",
        "\n",
        "* Para poder ejecutar python en Colab necesitamos una cuenta de google pero todas las cuentas UCM son cuentas de google así que no hay problema (usuario y contraseña de la UCM)\n"
      ],
      "metadata": {
        "id": "oEMFEngsi6AT"
      }
    },
    {
      "cell_type": "code",
      "source": [
        "# Este es nuestro primer codigo\n",
        "\n",
        "print(\"hola mundo\")"
      ],
      "metadata": {
        "id": "GgNyyfccrcuq"
      },
      "execution_count": null,
      "outputs": []
    },
    {
      "cell_type": "markdown",
      "source": [
        "\n",
        "Este tipo de cuadernos que mezclan código con explicaciones son fundamentales en ciencia de datos (como jupyter) y son los más utilizado para aprender conceptos de ingeniería de datos.\n",
        "\n",
        "Las celdas de texto se escriben en Markdown\n"
      ],
      "metadata": {
        "id": "6-SIByyKo8-7"
      }
    },
    {
      "cell_type": "markdown",
      "source": [
        "## <font color=\"darkorange\"><b>Conceptos necesarios de Python</b></font>\n",
        "\n",
        "- Python es el lenguaje de la Ciencia de Datos y Deep Learning\n",
        "- Partimos de un nivel razonable de programación en **R** y vemos qué cosas son diferentes\n",
        "\n",
        "\n",
        "\n"
      ],
      "metadata": {
        "id": "rlS3EDNttBuQ"
      }
    },
    {
      "cell_type": "code",
      "source": [
        "# Operaciones básicas con python\n",
        "\n",
        "# crear una variable\n",
        "x = 10\n",
        "y = x + 15 ** 3\n",
        "\n",
        "# Mezclar texto con cadenas\n",
        "print(\"El numero es: \", y)\n",
        "\n",
        "# importar un paquete de python y usarlo\n",
        "import random\n",
        "z = random.randint(-10,10)\n",
        "print(z)"
      ],
      "metadata": {
        "id": "J4qdTWvQAnUH"
      },
      "execution_count": null,
      "outputs": []
    },
    {
      "cell_type": "code",
      "source": [
        "# Las estructuras de datos son diferentes\n",
        "\n",
        "mi_lista = [\"manzana\", \"platano\", \"pera\"] # el más usado, ordenados y mutables\n",
        "mi_tupla = (\"manzana\", \"platano\", \"pera\") # ordenados, inmutables\n",
        "mi_set = {\"manzana\", \"platano\", \"pera\"} # (conjuntos) no ordenados, inmutables pero menos (se pueden quitar y añadir)\n",
        "mi_dic = {\n",
        "  \"marca\": \"seat\",\n",
        "  \"modelo\": \"ibiza\",\n",
        "  \"year\": 1964\n",
        "} # no ordenados y mutables, son pares de key y value\n",
        "\n",
        "# Los contadores empiezan en 0 y no en 1 como en R\n",
        "print(mi_lista[0])\n",
        "print(mi_tupla[1])\n"
      ],
      "metadata": {
        "id": "j9cKloQCvOgT"
      },
      "execution_count": null,
      "outputs": []
    },
    {
      "cell_type": "code",
      "source": [
        "# Las variables no ordenadas son confusas para acceder a ellos\n",
        "\n",
        "# ejemplo para un conjunto (set)\n",
        "\n",
        "# print(mi_set[0]) # da error porque no está ordenado\n",
        "\n",
        "# pero se puede recorrer, fíjate en el for, no usa corchetes porque se usa la identación\n",
        "for i in mi_set:\n",
        "  print(i)\n",
        "\n",
        "\n",
        "# Se puede accecer a los diccionarios con el nombre de la key\n",
        "print(mi_dic[\"modelo\"])\n",
        "\n",
        "# Otra forma es pasar la variable a lista que si es ordenada y acceder con indices\n",
        "print(list(mi_dic.keys())[1],\":\", list(mi_dic.values())[1])"
      ],
      "metadata": {
        "id": "a70OEx5_xyNn"
      },
      "execution_count": null,
      "outputs": []
    },
    {
      "cell_type": "code",
      "source": [
        "# Uso de for (imprescindible para Deep Learning)\n",
        "# Ojo, solo para ordenados\n",
        "\n",
        "for fruta in mi_lista:\n",
        "  print(fruta)"
      ],
      "metadata": {
        "id": "ha3jy7Qm1cp-"
      },
      "execution_count": null,
      "outputs": []
    },
    {
      "cell_type": "code",
      "source": [
        "# Crear un función\n",
        "\n",
        "def greet (name):\n",
        "  print(\"Hello, \" + name + \"!\")\n",
        "\n",
        "greet(\"miguel\")\n",
        "\n",
        "\n",
        "\n",
        "# Pueden devolver varios valores\n",
        "def foo (v1, v2):\n",
        "  return v1+1, v2+1, v1+v2\n",
        "\n",
        "a, b, c = foo(2, 3)\n",
        "print(a, b, c)\n"
      ],
      "metadata": {
        "id": "vpMOxfTx1kDV"
      },
      "execution_count": null,
      "outputs": []
    },
    {
      "cell_type": "code",
      "source": [
        "# Se utilizan mucho las clases\n",
        "# Se busca encapsular todo, los datos y las funciones en un mismo objeto\n",
        "\n",
        "class Person:\n",
        "  def __init__(self, name, age):\n",
        "    self.name = name\n",
        "    self.age = age\n",
        "  def animo (self):\n",
        "    print( f\"{self.name}, eres un máquina!\" )\n",
        "\n",
        "\n",
        "p1 = Person(\"carlos\", 36)\n",
        "\n",
        "print(p1.name)\n",
        "print(p1.age)\n",
        "\n",
        "# Estamos usando la funcion de la clase\n",
        "p1.animo()"
      ],
      "metadata": {
        "id": "edv9U83l2RQC"
      },
      "execution_count": null,
      "outputs": []
    },
    {
      "cell_type": "markdown",
      "source": [],
      "metadata": {
        "id": "WyibkVpI4FCk"
      }
    },
    {
      "cell_type": "code",
      "source": [
        "# Un iterable es un objeto que puede ser iterado (debe ser ordenado), pe: una lista\n",
        "\n",
        "mi_lista = [\"manzana\", \"platano\", \"pera\"]\n",
        "\n",
        "# Un iterador es un objeto que guarda la posición en el recorrido de un iterable\n",
        "# Se controlan con iter y next\n",
        "iterador = iter(mi_lista)\n",
        "\n",
        "print(next(iterador))\n",
        "print(next(iterador))\n",
        "print(next(iterador))\n",
        "\n",
        "# Algunos elementos de python incorporan automaticamente iteradores, por ejemplo,\n",
        "# los bucles for\n",
        "\n",
        "for elemento in mi_lista:\n",
        "    print(elemento)\n",
        "\n",
        "# Una función importante para recorrer objetos es enumerate, crea el iterador\n",
        "# y lo usa a la vez\n",
        "\n",
        "for indice, fruta in enumerate(mi_lista):\n",
        "    print(f\"Indice {indice}: {fruta}\")\n",
        "\n",
        "\n"
      ],
      "metadata": {
        "id": "rmKz_M043akH"
      },
      "execution_count": null,
      "outputs": []
    },
    {
      "cell_type": "markdown",
      "source": [
        "## <font color=\"darkorange\"><b>Ejemplos para el uso de matplotlib</b></font>\n",
        "\n",
        "- Matplotlib es la librería de python que se encarga de hacer gráficos, es muy sencilla de usar y también muy potente"
      ],
      "metadata": {
        "id": "W3wnS6x09o3o"
      }
    },
    {
      "cell_type": "code",
      "source": [
        "import matplotlib.pyplot as plt"
      ],
      "metadata": {
        "id": "HkH4LHVpLLPx"
      },
      "execution_count": null,
      "outputs": []
    },
    {
      "cell_type": "code",
      "source": [
        "# Un simple linea\n",
        "\n",
        "# Datos\n",
        "x = [0, 1, 2, 3, 4]\n",
        "y = [0, 1, 4, 9, 16]\n",
        "\n",
        "# Crear el gráfico\n",
        "plt.plot(x, y)\n",
        "\n",
        "# Etiquetas\n",
        "plt.title(\"Gráfico de Línea Básico\")\n",
        "plt.xlabel(\"Eje X\")\n",
        "plt.ylabel(\"Eje Y\")\n",
        "\n",
        "# Mostrar el gráfico\n",
        "plt.show()"
      ],
      "metadata": {
        "id": "v8wSvtmS9v0l"
      },
      "execution_count": null,
      "outputs": []
    },
    {
      "cell_type": "code",
      "source": [
        "# Una linea con estilo\n",
        "\n",
        "# Datos\n",
        "x = [0, 1, 2, 3, 4]\n",
        "y = [0, 1, 4, 9, 16]\n",
        "\n",
        "# Personalizar el estilo\n",
        "plt.plot(x, y, color=\"red\", linestyle=\"--\", marker=\"o\", label=\"Cuadrados\")\n",
        "\n",
        "# Agregar leyenda\n",
        "plt.legend()\n",
        "\n",
        "plt.title(\"Línea con Estilo\")\n",
        "plt.xlabel(\"Eje X\")\n",
        "plt.ylabel(\"Eje Y\")\n",
        "plt.show()\n"
      ],
      "metadata": {
        "id": "4qVPMzlf93wZ"
      },
      "execution_count": null,
      "outputs": []
    },
    {
      "cell_type": "code",
      "source": [
        "# Dos lineas\n",
        "\n",
        "# Datos\n",
        "x = [0, 1, 2, 3, 4]\n",
        "y1 = [0, 1, 4, 9, 16]\n",
        "y2 = [0, 1, 8, 27, 64]\n",
        "\n",
        "# Línea 1\n",
        "plt.plot(x, y1, label=\"x^2\", color=\"blue\")\n",
        "\n",
        "# Línea 2\n",
        "plt.plot(x, y2, label=\"x^3\", color=\"green\")\n",
        "\n",
        "# Personalización\n",
        "plt.title(\"Múltiples Líneas\")\n",
        "plt.xlabel(\"Eje X\")\n",
        "plt.ylabel(\"Eje Y\")\n",
        "plt.legend()\n",
        "\n",
        "plt.show()\n"
      ],
      "metadata": {
        "id": "es06T9uL-GT-"
      },
      "execution_count": null,
      "outputs": []
    },
    {
      "cell_type": "code",
      "source": [
        "# Gráfico de dispersión\n",
        "\n",
        "# Datos\n",
        "x = [5, 7, 8, 7, 2, 17, 2, 9]\n",
        "y = [99, 86, 87, 88, 100, 86, 103, 87]\n",
        "\n",
        "# Crear el gráfico\n",
        "plt.scatter(x, y, color=\"purple\")\n",
        "\n",
        "plt.title(\"Gráfico de Dispersión\")\n",
        "plt.xlabel(\"Eje X\")\n",
        "plt.ylabel(\"Eje Y\")\n",
        "plt.show()\n"
      ],
      "metadata": {
        "id": "oMqCY3im-LCu"
      },
      "execution_count": null,
      "outputs": []
    },
    {
      "cell_type": "code",
      "source": [
        "# Gráfico de barras\n",
        "\n",
        "# Datos\n",
        "categorias = [\"A\", \"B\", \"C\", \"D\"]\n",
        "valores = [3, 7, 8, 5]\n",
        "\n",
        "# Crear el gráfico\n",
        "plt.bar(categorias, valores, color=\"orange\")\n",
        "\n",
        "plt.title(\"Gráfico de Barras\")\n",
        "plt.xlabel(\"Categorías\")\n",
        "plt.ylabel(\"Valores\")\n",
        "plt.show()\n"
      ],
      "metadata": {
        "id": "h71DnVv4-GnT"
      },
      "execution_count": null,
      "outputs": []
    },
    {
      "cell_type": "code",
      "source": [
        "# Un histograma\n",
        "\n",
        "import numpy as np\n",
        "\n",
        "# Datos aleatorios\n",
        "datos = np.random.randn(1000)\n",
        "\n",
        "# Crear el histograma\n",
        "plt.hist(datos, bins=30, color=\"blue\", edgecolor=\"black\")\n",
        "\n",
        "plt.title(\"Histograma\")\n",
        "plt.xlabel(\"Valores\")\n",
        "plt.ylabel(\"Frecuencia\")\n",
        "plt.show()\n"
      ],
      "metadata": {
        "id": "-HscezSB-GuN"
      },
      "execution_count": null,
      "outputs": []
    },
    {
      "cell_type": "code",
      "source": [
        "# Crear subplots\n",
        "\n",
        "# Some example data to display\n",
        "x = np.linspace(0, 2 * np.pi, 400)\n",
        "y = np.sin(x ** 2)\n",
        "\n",
        "fig, axs = plt.subplots(2, 2)\n",
        "axs[0, 0].plot(x, y)\n",
        "axs[0, 0].set_title('Figura 01')\n",
        "\n",
        "axs[0, 1].plot(x, y, 'tab:orange')\n",
        "axs[0, 1].set_title('Figura 02')\n",
        "\n",
        "axs[1, 0].plot(x, -y, 'tab:green')\n",
        "axs[1, 0].set_title('Figura 03')\n",
        "\n",
        "axs[1, 1].plot(x, -y, 'tab:red')\n",
        "axs[1, 1].set_title('Figura 04')\n"
      ],
      "metadata": {
        "id": "lYgvASHRGHRl"
      },
      "execution_count": null,
      "outputs": []
    },
    {
      "cell_type": "code",
      "source": [
        "# Guardar el grafico en un fichero\n",
        "\n",
        "x = [0, 1, 2, 3, 4]\n",
        "y = [0, 1, 4, 9, 16]\n",
        "\n",
        "plt.plot(x, y)\n",
        "plt.title(\"Guardar Gráfico\")\n",
        "\n",
        "# Guardar en formato PNG\n",
        "plt.savefig(\"grafico.png\")\n",
        "plt.show()\n"
      ],
      "metadata": {
        "id": "HGrPyOFM-WfN"
      },
      "execution_count": null,
      "outputs": []
    },
    {
      "cell_type": "markdown",
      "source": [
        "## <font color=\"darkorange\"><b>Uso básico de numpy</b></font>\n",
        "\n",
        "\n",
        "\n",
        "- NumPy (Numerical Python) es una biblioteca fundamental para el cálculo numérico en Python. Su principal utilidad es trabajar con arrays n-dimensionales y realizar operaciones matemáticas de manera rápida y eficiente.\n"
      ],
      "metadata": {
        "id": "ImdbVenp5dTE"
      }
    },
    {
      "cell_type": "code",
      "source": [
        "# Una matriz puede ser una lista de listas\n",
        "M = [\n",
        "    [1,2,3],\n",
        "    [4,5,6]\n",
        "]\n",
        "print(M[0][1])\n",
        "print(M[:][1])\n",
        "\n",
        "# Esto no se suele hacer, es pesado\n",
        "# Las matrices se manejan con librerías específicas como numpy o pandas\n",
        "# Lo vemos más adelante\n"
      ],
      "metadata": {
        "id": "T-S5g1qzDP9N"
      },
      "execution_count": null,
      "outputs": []
    },
    {
      "cell_type": "code",
      "source": [
        "import numpy as np\n",
        "\n",
        "# crear un vector a partir de una lista\n",
        "mi_lista = [1, 2, 3, 4]\n",
        "array = np.array(mi_lista)\n",
        "print(array)          # Salida: [1 2 3 4]\n",
        "print(type(array))\n",
        "\n",
        "# Array 1D\n",
        "array_1d = np.array([1, 2, 3])\n",
        "\n",
        "# Array 2D\n",
        "array_2d = np.array([[1, 2, 3], [4, 5, 6]])\n",
        "\n",
        "# Array 3D\n",
        "array_3d = np.array([[[1, 2], [3, 4]], [[5, 6], [7, 8]]])\n",
        "\n",
        "print(array_1d)\n",
        "print(array_2d)\n",
        "print(array_3d)\n",
        "\n",
        "# Array de ceros\n",
        "ceros = np.zeros((2, 3))\n",
        "\n",
        "# Array de unos\n",
        "unos = np.ones((3, 3))\n",
        "\n",
        "# Rango de números\n",
        "rango = np.arange(0, 10, 2)  # Desde 0 hasta 10 (excluido) con paso 2\n",
        "\n"
      ],
      "metadata": {
        "id": "5-9Gaqrt5VLX"
      },
      "execution_count": null,
      "outputs": []
    },
    {
      "cell_type": "code",
      "source": [
        "# Operaciones con vectores y matrices\n",
        "\n",
        "a = np.array([1, 2, 3])\n",
        "b = np.array([4, 5, 6])\n",
        "\n",
        "# Suma\n",
        "print(a + b)  # Salida: [5 7 9]\n",
        "\n",
        "# Resta\n",
        "print(a - b)  # Salida: [-3 -3 -3]\n",
        "\n",
        "# Multiplicación\n",
        "print(a * b)  # Salida: [4 10 18]\n",
        "\n",
        "# División\n",
        "print(a / b)  # Salida: [0.25 0.4  0.5 ]\n"
      ],
      "metadata": {
        "id": "zO-0Kv3X5bdo"
      },
      "execution_count": null,
      "outputs": []
    },
    {
      "cell_type": "code",
      "source": [
        "# OJO: Hay dos tipos de multiplicaciones de matrices\n",
        "# Las reales se hacen con matmul, estas son de arrays o byelement\n",
        "\n",
        "a = np.array([[1, 2, 3], [4, 5, 6]]) # 2 x 3\n",
        "b = np.array([[1], [2], [3]]) # 3 x 1\n",
        "\n",
        "np.matmul(a, b)\n",
        "# np.matmul(b, a) # No se puede hacer porque no casan las dimensiones\n",
        "\n"
      ],
      "metadata": {
        "id": "hskpQx87M-wc"
      },
      "execution_count": null,
      "outputs": []
    },
    {
      "cell_type": "code",
      "source": [
        "# Acceso a los elementos\n",
        "\n",
        "array = np.array([[1, 2, 3], [4, 5, 6]])\n",
        "\n",
        "# Acceder al elemento en la fila 1, columna 2\n",
        "print(array[1, 2])  # Salida: 6\n",
        "\n",
        "# Acceder a una fila completa\n",
        "print(array[0])  # Salida: [1 2 3]\n",
        "\n",
        "# Subarray de la primera fila\n",
        "print(array[0, 0:2])  # Salida: [1 2]\n",
        "\n",
        "# Subarray de la primera columna\n",
        "print(array[:, 0])  # Salida: [1 4]\n",
        "\n"
      ],
      "metadata": {
        "id": "GSH-aE0ZM9Kg"
      },
      "execution_count": null,
      "outputs": []
    },
    {
      "cell_type": "code",
      "source": [
        "# Funciones sobre los arrays\n",
        "\n",
        "array = np.array([1, 2, 3, 4])\n",
        "\n",
        "# Raíz cuadrada\n",
        "print(np.sqrt(array))  # Salida: [1. 1.414 1.732 2.]\n",
        "\n",
        "# Seno\n",
        "print(np.sin(array))  # Salida: [0.841 0.909 0.141 -0.757]\n",
        "\n",
        "# Suma total\n",
        "print(np.sum(array))  # Salida: 10\n"
      ],
      "metadata": {
        "id": "ooXTdx_OOFuf"
      },
      "execution_count": null,
      "outputs": []
    },
    {
      "cell_type": "code",
      "source": [
        "# Generacion de numeros aleatorios\n",
        "\n",
        "# Números aleatorios entre 0 y 1\n",
        "aleatorios = np.random.rand(3, 3)\n",
        "\n",
        "# Números enteros aleatorios\n",
        "enteros = np.random.randint(0, 10, (2, 2))\n",
        "\n",
        "print(aleatorios)\n",
        "print(enteros)"
      ],
      "metadata": {
        "id": "C5il_sFlOVaN"
      },
      "execution_count": null,
      "outputs": []
    },
    {
      "cell_type": "code",
      "source": [
        "# Cambio de forma\n",
        "\n",
        "array = np.array([[1, 2, 3], [4, 5, 6]])\n",
        "\n",
        "# Cambiar forma a 3x2\n",
        "reshaped = array.reshape((3, 2))\n",
        "\n",
        "# Transponer\n",
        "transpuesta = array.T\n",
        "\n",
        "print(reshaped)\n",
        "print(transpuesta)"
      ],
      "metadata": {
        "id": "V3GmzhoDORZj"
      },
      "execution_count": null,
      "outputs": []
    },
    {
      "cell_type": "markdown",
      "source": [
        "## <font color=\"darkorange\"><b>Tensores con pytorch</b></font>\n",
        "\n",
        "* Un tensor es una estructura de datos que permiten operaciones matemáticas muy rápidas al ejecutarse en las GPUs.\n",
        "\n",
        "En PyTorch, los tensores son estructuras clave, y la biblioteca los optimiza para funcionar eficientemente en CPU y GPU."
      ],
      "metadata": {
        "id": "9eIdtNAo6wZt"
      }
    },
    {
      "cell_type": "code",
      "source": [
        "import torch\n",
        "\n",
        "# Lo habitual es crearlos a partir de datos de numpy\n",
        "\n",
        "a = np.array([1, 2, 3])\n",
        "t = torch.from_numpy(a)"
      ],
      "metadata": {
        "id": "GcjJC6s37F-0"
      },
      "execution_count": null,
      "outputs": []
    },
    {
      "cell_type": "code",
      "source": [
        "# También se pueden crear directamente con pytorch\n",
        "\n",
        "# Crear un tensor desde una lista\n",
        "tensor = torch.tensor([1, 2, 3, 4])\n",
        "print(tensor)\n",
        "\n",
        "# Tensor con forma 2x3\n",
        "tensor_2d = torch.tensor([[1, 2, 3], [4, 5, 6]])\n",
        "print(tensor_2d)"
      ],
      "metadata": {
        "id": "kHFZjNEW7U6s"
      },
      "execution_count": null,
      "outputs": []
    },
    {
      "cell_type": "code",
      "source": [
        "# Tensor de ceros\n",
        "ceros = torch.zeros((2, 3))  # Matriz 2x3 de ceros\n",
        "\n",
        "# Tensor de unos\n",
        "unos = torch.ones((3, 3))    # Matriz 3x3 de unos\n",
        "\n",
        "# Tensor aleatorio entre 0 y 1\n",
        "aleatorio = torch.rand((2, 2))\n",
        "\n",
        "# Tensor vacío (valores no inicializados)\n",
        "vacio = torch.empty((2, 2))\n",
        "\n",
        "print(ceros, unos, aleatorio, vacio, sep=\"\\n\")"
      ],
      "metadata": {
        "id": "lJ_rmta27U96"
      },
      "execution_count": null,
      "outputs": []
    },
    {
      "cell_type": "code",
      "source": [
        "tensor = torch.tensor([[1, 2, 3], [4, 5, 6]])\n",
        "\n",
        "# Forma del tensor\n",
        "print(tensor.shape)  # Salida: torch.Size([2, 3])\n",
        "\n",
        "# Número de dimensiones\n",
        "print(tensor.ndimension())  # Salida: 2\n",
        "\n",
        "# Tipo de datos\n",
        "print(tensor.dtype)  # Salida: torch.int64 (por defecto)"
      ],
      "metadata": {
        "id": "kPCAYj6p7VBD"
      },
      "execution_count": null,
      "outputs": []
    },
    {
      "cell_type": "code",
      "source": [
        "a = torch.tensor([1, 2, 3])\n",
        "b = torch.tensor([4, 5, 6])\n",
        "\n",
        "# Suma\n",
        "print(a + b)  # Salida: tensor([5, 7, 9])\n",
        "\n",
        "# Resta\n",
        "print(a - b)  # Salida: tensor([-3, -3, -3])\n",
        "\n",
        "# Multiplicación elemento a elemento\n",
        "print(a * b)  # Salida: tensor([4, 10, 18])\n",
        "\n",
        "# División\n",
        "print(a / b)  # Salida: tensor([0.2500, 0.4000, 0.5000])"
      ],
      "metadata": {
        "id": "82wt-6Bx7VDu"
      },
      "execution_count": null,
      "outputs": []
    },
    {
      "cell_type": "code",
      "source": [
        "tensor = torch.tensor([[1, 2, 3], [4, 5, 6]])\n",
        "\n",
        "# Acceder a un elemento\n",
        "print(tensor[1, 2])  # Salida: tensor(6)\n",
        "\n",
        "# Acceder a una fila completa\n",
        "print(tensor[0])  # Salida: tensor([1, 2, 3])\n",
        "\n",
        "# Slicing (sub-tensor)\n",
        "print(tensor[:, 1])  # Salida: tensor([2, 5])"
      ],
      "metadata": {
        "id": "7SGY5dkG7VGy"
      },
      "execution_count": null,
      "outputs": []
    },
    {
      "cell_type": "code",
      "source": [
        "# Se pueden calcular derivadas facilmente\n",
        "\n",
        "import torch\n",
        "import matplotlib.pyplot as plt\n",
        "import numpy as np\n",
        "\n",
        "# Crear valores para x como tensor de PyTorch\n",
        "x = torch.linspace(-10, 10, 100, requires_grad=True)\n",
        "\n",
        "# Definir la función: y = x^3 - 5x^2 + 10\n",
        "y = x**3 - 5 * x**2 + 10\n",
        "\n",
        "# Calcular la derivada de y con respecto a x\n",
        "y.backward(torch.ones_like(x))  # Necesitamos un gradiente de entrada para tensores no escalares\n",
        "\n",
        "# Extraer los valores para graficar\n",
        "x_vals = x.detach().numpy()\n",
        "y_vals = y.detach().numpy()\n",
        "dy_dx_vals = x.grad.detach().numpy()  # Gradiente calculado por PyTorch\n",
        "\n",
        "# Graficar la función y su derivada\n",
        "plt.figure(figsize=(10, 6))\n",
        "plt.plot(x_vals, y_vals, label=\"$y = x^3 - 5x^2 + 10$\", color=\"blue\")\n",
        "plt.plot(x_vals, dy_dx_vals, label=\"Derivada $dy/dx$\", color=\"red\", linestyle=\"--\")\n",
        "plt.legend()\n",
        "plt.grid(True)\n",
        "plt.show()\n"
      ],
      "metadata": {
        "id": "Md7s4CDhTSPE"
      },
      "execution_count": null,
      "outputs": []
    },
    {
      "cell_type": "markdown",
      "source": [
        "## <font color=\"darkorange\"><b>Otras utilidades</b></font>"
      ],
      "metadata": {
        "id": "XBwvP2EIPakx"
      }
    },
    {
      "cell_type": "code",
      "source": [
        "# Lo interesante de haber convertido una matriz en un tensor es que ahora puedo ejecutar las acciones directamente sobre la GPU\n",
        "\n",
        "# Comprobamos si tenemos GPU\n",
        "print(torch.cuda.is_available())  # Salida: True si hay una GPU disponible\n",
        "\n",
        "# setting device on GPU if available, else CPU\n",
        "device = torch.device('cuda' if torch.cuda.is_available() else 'cpu')\n",
        "print('Using device:', device)\n",
        "print()\n",
        "\n",
        "# Si tentemos cuda ponemos imprimir informacion\n",
        "if device.type == 'cuda':\n",
        "    print(torch.cuda.get_device_name(0))\n",
        "    print('Memory Usage:')\n",
        "    print('Allocated:', round(torch.cuda.memory_allocated(0)/1024**3,1), 'GB')\n",
        "    print('Cached:   ', round(torch.cuda.memory_reserved(0)/1024**3,1), 'GB')\n",
        "\n",
        "# almacenamos los tensores en la GPU\n",
        "\n",
        "if torch.cuda.is_available():\n",
        "    tensor = torch.tensor([1, 2, 3], device='cuda')  # Crear tensor en GPU\n",
        "    print(tensor)  # Salida: tensor([1, 2, 3], device='cuda:0')\n",
        "\n",
        "    # Mover un tensor existente en la CPU a la GPU\n",
        "    tensor_cpu = torch.tensor([4, 5, 6])\n",
        "    tensor_gpu = tensor_cpu.to('cuda')\n",
        "    print(tensor_gpu)"
      ],
      "metadata": {
        "id": "AB77_UwL7lsS"
      },
      "execution_count": null,
      "outputs": []
    },
    {
      "cell_type": "code",
      "source": [
        "if device.type == 'cuda':\n",
        "  !nvidia-smi"
      ],
      "metadata": {
        "id": "hMfKqf91hd07"
      },
      "execution_count": null,
      "outputs": []
    }
  ]
}